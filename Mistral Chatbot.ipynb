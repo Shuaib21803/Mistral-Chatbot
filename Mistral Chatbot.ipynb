{
 "cells": [
  {
   "cell_type": "markdown",
   "id": "9fb696f8",
   "metadata": {},
   "source": [
    "# Mistral Chatbot"
   ]
  },
  {
   "cell_type": "code",
   "execution_count": 1,
   "id": "cc2b3608",
   "metadata": {},
   "outputs": [],
   "source": [
    "from llama_cpp import Llama\n",
    "import ipywidgets as widgets\n",
    "from IPython.display import display, HTML"
   ]
  },
  {
   "cell_type": "markdown",
   "id": "cdf3ffe5",
   "metadata": {},
   "source": [
    "### Loading local model "
   ]
  },
  {
   "cell_type": "code",
   "execution_count": 3,
   "id": "1c8ed83a",
   "metadata": {},
   "outputs": [
    {
     "data": {
      "text/plain": [
       "<llama_cpp.llama.Llama at 0x1dee2cd4090>"
      ]
     },
     "execution_count": 3,
     "metadata": {},
     "output_type": "execute_result"
    }
   ],
   "source": [
    "llm = Llama(model_path=\"C:/Users/Shuaib/Desktop/Mistral/mistral-7b-instruct-v0.2.Q4_0.gguf\",\n",
    "           n_ctx=32768,\n",
    "           n_threads=8,\n",
    "           n_gpu_layers=35, verbose=False)\n",
    "llm"
   ]
  },
  {
   "cell_type": "markdown",
   "id": "ef672624",
   "metadata": {},
   "source": [
    "### Test Instance"
   ]
  },
  {
   "cell_type": "code",
   "execution_count": 10,
   "id": "8be2f326",
   "metadata": {},
   "outputs": [
    {
     "name": "stdout",
     "output_type": "stream",
     "text": [
      " Genghis Khan, also known as Temujin or Chinggis Khan, was a prominent Mongol leader who united various nomadic tribes in the Northeast of China and founded the Mongol Empire. He is best known for expanding this empire to become the largest contiguous land empire in history. His military conquests ranged from Eastern Europe to Korea and Southwest China, making him one of the most successful commanders in history. Genghis Khan ruled his empire from 1206 until his death in 1227. He adopted several revolutionary military strategies and political structures that ensured the unity and success of his empire. His legacy continues to impact various cultures and regions around the world."
     ]
    }
   ],
   "source": [
    "output=llm(\"<s>[INST]{Who was Gengis Khan?}[/INST]\",\n",
    "            max_tokens=512,\n",
    "            stop=[\"</s>\"],\n",
    "            stream=True)\n",
    "\n",
    "for r in output:\n",
    "    print(r[\"choices\"][0][\"text\"], end=\"\")"
   ]
  },
  {
   "cell_type": "markdown",
   "id": "f5939314",
   "metadata": {},
   "source": [
    "### Chatbot "
   ]
  },
  {
   "cell_type": "code",
   "execution_count": 8,
   "id": "ab52de06",
   "metadata": {},
   "outputs": [
    {
     "data": {
      "application/vnd.jupyter.widget-view+json": {
       "model_id": "45bff339ae124cd280740811fd6cef20",
       "version_major": 2,
       "version_minor": 0
      },
      "text/plain": [
       "Text(value='', description='You:', placeholder='Type your message here...')"
      ]
     },
     "metadata": {},
     "output_type": "display_data"
    },
    {
     "data": {
      "application/vnd.jupyter.widget-view+json": {
       "model_id": "0582397fa1de427283b58f85ce718a9b",
       "version_major": 2,
       "version_minor": 0
      },
      "text/plain": [
       "Button(description='Send', icon='check', style=ButtonStyle(), tooltip='Send your message')"
      ]
     },
     "metadata": {},
     "output_type": "display_data"
    },
    {
     "data": {
      "application/vnd.jupyter.widget-view+json": {
       "model_id": "4b254eaddf424c209e8c073ebdef64f1",
       "version_major": 2,
       "version_minor": 0
      },
      "text/plain": [
       "HTML(value='<p><b>Bot:</b> Hello! How can I help you today?</p>')"
      ]
     },
     "metadata": {},
     "output_type": "display_data"
    }
   ],
   "source": [
    "chat_history = []\n",
    "\n",
    "\n",
    "input_box = widgets.Text(\n",
    "    value='',\n",
    "    placeholder='Type your message here...',\n",
    "    description='You:',\n",
    "    disabled=False\n",
    ")\n",
    "output_box = widgets.HTML(\n",
    "    value='<p><b>Bot:</b> Hello! How can I help you today?</p>'\n",
    ")\n",
    "send_button = widgets.Button(\n",
    "    description='Send',\n",
    "    disabled=False,\n",
    "    button_style='', \n",
    "    tooltip='Send your message',\n",
    "    icon='check'\n",
    ")\n",
    "\n",
    "\n",
    "def send_message(_):\n",
    "    user_input = input_box.value\n",
    "    input_box.value = ''\n",
    "    \n",
    "    if user_input:\n",
    "        response = ''\n",
    "        output = llm(f\"[INST]{user_input}[/INST]\", max_tokens=256, stop=[\"</s>\"], stream=True) #Since 512 was taking up more resources in above block of code\n",
    "        \n",
    "        for r in output:\n",
    "            response += r[\"choices\"][0][\"text\"]\n",
    "        \n",
    "        chat_history.append(f'<p><b>You:</b> {user_input}</p>')\n",
    "        chat_history.append(f'<p><b>Bot:</b> {response}</p>')\n",
    "        \n",
    "        output_box.value = ''.join(chat_history)\n",
    "\n",
    "\n",
    "send_button.on_click(send_message)\n",
    "\n",
    "display(input_box)\n",
    "display(send_button)\n",
    "display(output_box)"
   ]
  },
  {
   "cell_type": "code",
   "execution_count": null,
   "id": "0bf9c018",
   "metadata": {},
   "outputs": [],
   "source": []
  }
 ],
 "metadata": {
  "kernelspec": {
   "display_name": "Python 3 (ipykernel)",
   "language": "python",
   "name": "python3"
  },
  "language_info": {
   "codemirror_mode": {
    "name": "ipython",
    "version": 3
   },
   "file_extension": ".py",
   "mimetype": "text/x-python",
   "name": "python",
   "nbconvert_exporter": "python",
   "pygments_lexer": "ipython3",
   "version": "3.11.7"
  }
 },
 "nbformat": 4,
 "nbformat_minor": 5
}
